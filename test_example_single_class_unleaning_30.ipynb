{
 "cells": [
  {
   "cell_type": "code",
   "execution_count": 1,
   "metadata": {},
   "outputs": [],
   "source": [
    "import os\n",
    "import time\n",
    "import numpy as np\n",
    "import copy\n",
    "from collections import OrderedDict\n",
    "import pandas as pd\n",
    "from tqdm import tqdm\n",
    "import matplotlib.pyplot as plt\n",
    "import sys\n",
    "import os\n",
    "from contextlib import contextmanager\n",
    "import warnings\n",
    "warnings.filterwarnings(\"ignore\")\n",
    "\n",
    "import torch\n",
    "import torch.optim as optim\n",
    "from torch.utils.data import DataLoader\n",
    "\n",
    "from utils_unlearn import *\n",
    "from UNMUNGE import *\n",
    "from load_datasets import *\n",
    "from config import *\n",
    "from dataloader import *"
   ]
  },
  {
   "cell_type": "code",
   "execution_count": 2,
   "metadata": {},
   "outputs": [],
   "source": [
    "@contextmanager\n",
    "def suppress_output():\n",
    "    \"\"\"Context manager to suppress prints in a block of code.\"\"\"\n",
    "    with open(os.devnull, 'w') as devnull:\n",
    "        old_stdout = sys.stdout\n",
    "        sys.stdout = devnull\n",
    "        try:\n",
    "            yield\n",
    "        finally:\n",
    "            sys.stdout = old_stdout"
   ]
  },
  {
   "cell_type": "markdown",
   "metadata": {},
   "source": [
    "# Inputs"
   ]
  },
  {
   "cell_type": "code",
   "execution_count": 3,
   "metadata": {},
   "outputs": [],
   "source": [
    "dataset_name = 'cifar10'\n",
    "model_name = 'ResNet18'\n",
    "retain_data_percent = 30\n",
    "unlearn_type = 'Single_Class_Unlearn'\n",
    "device = torch.device(\"cuda\" if torch.cuda.is_available() else \"cpu\")\n",
    "retrained_models_folder_name = 'retrained_models'\n",
    "unlearned_models_folder_name = 'unlearned_models'\n",
    "delete_saved_unlearned_models = True\n",
    "\n",
    "learning_rate = 1e-3\n",
    "unlearn_scale_lr = 2.2\n",
    "batch_size = 128\n",
    "num_train_epochs = 30     \n",
    "num_unlearn_epochs = 5\n",
    "local_variance = 5\n",
    "size_multiplier = 1\n",
    "p = 0.95\n",
    "tail_randomized=20\n",
    "solver_type = 'adam'\n",
    "no_generated_data = 500\n",
    "convex_combination = True\n",
    "eps = 0.01\n",
    "all_result_folder_path = './results'\n",
    "result_savepath = ''.join([all_result_folder_path, '/', dataset_name, '/', model_name, '/'])\n",
    "unlearned_models_path = ''.join([result_savepath, '/', unlearn_type, '/', unlearned_models_folder_name])\n",
    "\n",
    "# Setting Inputs for models\n",
    "if dataset_name == 'mnist' or dataset_name == 'fashionMNIST':\n",
    "    num_input_channels = 1\n",
    "    num_classes = 10\n",
    "    padding = 2\n",
    "elif dataset_name == 'svhn' or dataset_name == 'cifar10':\n",
    "    num_input_channels = 3\n",
    "    num_classes = 10\n",
    "    padding = 0\n",
    "else:\n",
    "    print('Details about data not found.')"
   ]
  },
  {
   "cell_type": "markdown",
   "metadata": {},
   "source": [
    "# Loading Data"
   ]
  },
  {
   "cell_type": "code",
   "execution_count": 4,
   "metadata": {},
   "outputs": [
    {
     "name": "stdout",
     "output_type": "stream",
     "text": [
      "Using downloaded and verified file: /home/rkmvu/Datasets/Torchvision_Data/cifar10/cifar10.tgz\n"
     ]
    }
   ],
   "source": [
    "# For GPU's\n",
    "datapath = '/home/rkmvu/Datasets/Torchvision_Data/'\n",
    "if dataset_name == 'svhn':\n",
    "    datapath = ''.join([datapath, 'SVHN_Data/'])\n",
    "if dataset_name == 'cifar100':\n",
    "    datapath = ''.join([datapath, 'CIFAR100/'])\n",
    "\n",
    "#-------------------------------------------------------------------------------------------------------------------------------\n",
    "\n",
    "train_data, test_data = dict_datasets[dataset_name](datapath)\n",
    "train_loader = DataLoader(train_data,\n",
    "                          batch_size,\n",
    "                          shuffle=True\n",
    "                          )\n",
    "test_loader = DataLoader(test_data,\n",
    "                         batch_size,\n",
    "                         shuffle=True\n",
    "                         )\n",
    "image_size = train_loader.dataset[0][0].shape"
   ]
  },
  {
   "cell_type": "markdown",
   "metadata": {},
   "source": [
    "# Separating Data and Labels from Dataloader"
   ]
  },
  {
   "cell_type": "code",
   "execution_count": 5,
   "metadata": {},
   "outputs": [
    {
     "name": "stdout",
     "output_type": "stream",
     "text": [
      "Separating Data and Labels from Dataloader:\n",
      "-------------------------------------------\n"
     ]
    },
    {
     "name": "stdout",
     "output_type": "stream",
     "text": [
      "Number of unique class: 10\n",
      "and classes are:\n",
      "[0, 1, 2, 3, 4, 5, 6, 7, 8, 9]\n",
      "Number of Train Data = 50000, Number of Test Data = 10000\n",
      "\n",
      "--------------------------------------------------------------------------------\n",
      "================================================================================\n",
      "\n",
      "\n",
      "\n"
     ]
    }
   ],
   "source": [
    "print('Separating Data and Labels from Dataloader:')\n",
    "print('-------------------------------------------')\n",
    "\n",
    "input_train_data = []\n",
    "input_train_labels = []\n",
    "\n",
    "input_test_data = []\n",
    "input_test_labels = []\n",
    "\n",
    "for data, label in train_data:\n",
    "    input_train_data.append(data)\n",
    "    input_train_labels.append(label)\n",
    "    \n",
    "    \n",
    "for data, label in test_data:\n",
    "    input_test_data.append(data)\n",
    "    input_test_labels.append(label)  \n",
    "\n",
    "print('Number of unique class: {}\\nand classes are:\\n{}' .format(len(list(set(input_train_labels))), list(set(input_train_labels))))\n",
    "input_train_data = torch.stack(input_train_data)\n",
    "input_train_labels = torch.from_numpy(np.array(input_train_labels))\n",
    "input_test_data = torch.stack(input_test_data)\n",
    "input_test_labels = torch.from_numpy(np.array(input_test_labels))\n",
    "print(f'Number of Train Data = {len(input_train_data)}, Number of Test Data = {len(input_test_data)}\\n')\n",
    "print('-'*80)\n",
    "print('='*80)\n",
    "print('\\n\\n')"
   ]
  },
  {
   "cell_type": "markdown",
   "metadata": {},
   "source": [
    "# Proposed Method"
   ]
  },
  {
   "cell_type": "markdown",
   "metadata": {},
   "source": [
    "#### Fixing seed for Reproduciblity"
   ]
  },
  {
   "cell_type": "code",
   "execution_count": 6,
   "metadata": {},
   "outputs": [],
   "source": [
    "np_seed = 20\n",
    "torch_seed = 100\n",
    "np.random.seed(np_seed)\n",
    "torch.manual_seed(torch_seed)\n",
    "if torch.cuda.is_available():\n",
    "    torch.cuda.manual_seed_all(torch_seed)\n",
    "    torch.backends.cudnn.deterministic = True\n",
    "    torch.backends.cudnn.benchmark = False"
   ]
  },
  {
   "cell_type": "markdown",
   "metadata": {},
   "source": [
    "#### Initializing the variables"
   ]
  },
  {
   "cell_type": "code",
   "execution_count": 7,
   "metadata": {},
   "outputs": [],
   "source": [
    "unlearn_test_acc_unlearning = [None]*num_classes\n",
    "retain_test_acc_unlearning = [None]*num_classes\n",
    "\n",
    "retain_test_acc_retrained = [None]*num_classes\n",
    "unlearn_test_acc_retrained = [None]*num_classes\n",
    "\n",
    "all_test_retain_acc = [None]*num_classes\n",
    "all_test_unlearn_acc = [None]*num_classes\n",
    "\n",
    "unlearn_time_list = [None]*num_classes\n"
   ]
  },
  {
   "cell_type": "markdown",
   "metadata": {},
   "source": [
    "#### Main Code"
   ]
  },
  {
   "cell_type": "code",
   "execution_count": 8,
   "metadata": {},
   "outputs": [
    {
     "name": "stderr",
     "output_type": "stream",
     "text": [
      "  0%|          | 0/10 [00:00<?, ?it/s]"
     ]
    },
    {
     "name": "stdout",
     "output_type": "stream",
     "text": [
      "================================================================================\n",
      "--------------------------------------------------------------------------------\n",
      "Unlearning Step (Class = 0)\n",
      "----------------------------\n"
     ]
    },
    {
     "name": "stdout",
     "output_type": "stream",
     "text": [
      "Test accuracy on Test data = 81.61\n",
      "Accuracy on Test retain Data = 80.9\n",
      "Accuracy on Test unlearn Data = 88.0\n",
      "--------------------------------------------------------------------------------\n"
     ]
    },
    {
     "name": "stderr",
     "output_type": "stream",
     "text": [
      "100%|██████████| 9/9 [00:00<00:00, 36.23it/s]\n",
      "100%|██████████| 1/1 [00:00<00:00,  1.17it/s]\n",
      "100%|██████████| 5/5 [00:07<00:00,  1.49s/it]\n"
     ]
    },
    {
     "name": "stdout",
     "output_type": "stream",
     "text": [
      "--------------------------------------------------------------------------------\n",
      "Accuracy of Unlearned Model on Retain Data in Test Dataset(Unlearn Class - 0) = 77.2\n",
      "Accuracy of Unlearned Model on Unlearn Data in Test Dataset(Unlearn Class - 0) = 0.6\n",
      "Accuracy of Retrained Model on Retain Data in Test Dataset = 82.29\n",
      "Accuracy of Retrained Model on Unlearn Data in Test Dataset = 0.0\n",
      "--------------------------------------------------------------------------------\n",
      "\n",
      "\n"
     ]
    },
    {
     "name": "stderr",
     "output_type": "stream",
     "text": [
      " 10%|█         | 1/10 [00:29<04:27, 29.72s/it]"
     ]
    },
    {
     "name": "stdout",
     "output_type": "stream",
     "text": [
      "================================================================================\n",
      "--------------------------------------------------------------------------------\n",
      "Unlearning Step (Class = 1)\n",
      "----------------------------\n",
      "Test accuracy on Test data = 81.61\n",
      "Accuracy on Test retain Data = 80.29\n",
      "Accuracy on Test unlearn Data = 93.5\n",
      "--------------------------------------------------------------------------------\n"
     ]
    },
    {
     "name": "stderr",
     "output_type": "stream",
     "text": [
      "100%|██████████| 9/9 [00:00<00:00, 35.63it/s]\n",
      "100%|██████████| 1/1 [00:00<00:00,  1.15it/s]\n",
      "100%|██████████| 5/5 [00:09<00:00,  1.93s/it]\n"
     ]
    },
    {
     "name": "stdout",
     "output_type": "stream",
     "text": [
      "--------------------------------------------------------------------------------\n",
      "Accuracy of Unlearned Model on Retain Data in Test Dataset(Unlearn Class - 1) = 76.29\n",
      "Accuracy of Unlearned Model on Unlearn Data in Test Dataset(Unlearn Class - 1) = 0.0\n",
      "Accuracy of Retrained Model on Retain Data in Test Dataset = 82.17\n",
      "Accuracy of Retrained Model on Unlearn Data in Test Dataset = 0.0\n",
      "--------------------------------------------------------------------------------\n",
      "\n",
      "\n"
     ]
    },
    {
     "name": "stderr",
     "output_type": "stream",
     "text": [
      " 20%|██        | 2/10 [01:01<04:08, 31.02s/it]"
     ]
    },
    {
     "name": "stdout",
     "output_type": "stream",
     "text": [
      "================================================================================\n",
      "--------------------------------------------------------------------------------\n",
      "Unlearning Step (Class = 2)\n",
      "----------------------------\n",
      "Test accuracy on Test data = 81.61\n",
      "Accuracy on Test retain Data = 82.71\n",
      "Accuracy on Test unlearn Data = 71.7\n",
      "--------------------------------------------------------------------------------\n"
     ]
    },
    {
     "name": "stderr",
     "output_type": "stream",
     "text": [
      "100%|██████████| 9/9 [00:00<00:00, 33.15it/s]\n",
      "100%|██████████| 1/1 [00:00<00:00,  1.15it/s]\n",
      "100%|██████████| 5/5 [00:12<00:00,  2.59s/it]\n"
     ]
    },
    {
     "name": "stdout",
     "output_type": "stream",
     "text": [
      "--------------------------------------------------------------------------------\n",
      "Accuracy of Unlearned Model on Retain Data in Test Dataset(Unlearn Class - 2) = 79.93\n",
      "Accuracy of Unlearned Model on Unlearn Data in Test Dataset(Unlearn Class - 2) = 0.0\n",
      "Accuracy of Retrained Model on Retain Data in Test Dataset = 83.18\n",
      "Accuracy of Retrained Model on Unlearn Data in Test Dataset = 0.0\n",
      "--------------------------------------------------------------------------------\n",
      "\n",
      "\n"
     ]
    },
    {
     "name": "stderr",
     "output_type": "stream",
     "text": [
      " 30%|███       | 3/10 [01:36<03:50, 32.97s/it]"
     ]
    },
    {
     "name": "stdout",
     "output_type": "stream",
     "text": [
      "================================================================================\n",
      "--------------------------------------------------------------------------------\n",
      "Unlearning Step (Class = 3)\n",
      "----------------------------\n",
      "Test accuracy on Test data = 81.61\n",
      "Accuracy on Test retain Data = 83.57\n",
      "Accuracy on Test unlearn Data = 64.0\n",
      "--------------------------------------------------------------------------------\n"
     ]
    },
    {
     "name": "stderr",
     "output_type": "stream",
     "text": [
      "100%|██████████| 9/9 [00:00<00:00, 31.06it/s]\n",
      "100%|██████████| 1/1 [00:00<00:00,  1.13it/s]\n",
      "100%|██████████| 5/5 [00:11<00:00,  2.35s/it]\n"
     ]
    },
    {
     "name": "stdout",
     "output_type": "stream",
     "text": [
      "--------------------------------------------------------------------------------\n",
      "Accuracy of Unlearned Model on Retain Data in Test Dataset(Unlearn Class - 3) = 80.6\n",
      "Accuracy of Unlearned Model on Unlearn Data in Test Dataset(Unlearn Class - 3) = 0.0\n",
      "Accuracy of Retrained Model on Retain Data in Test Dataset = 85.13\n",
      "Accuracy of Retrained Model on Unlearn Data in Test Dataset = 0.0\n",
      "--------------------------------------------------------------------------------\n",
      "\n",
      "\n"
     ]
    },
    {
     "name": "stderr",
     "output_type": "stream",
     "text": [
      " 40%|████      | 4/10 [02:11<03:20, 33.43s/it]"
     ]
    },
    {
     "name": "stdout",
     "output_type": "stream",
     "text": [
      "================================================================================\n",
      "--------------------------------------------------------------------------------\n",
      "Unlearning Step (Class = 4)\n",
      "----------------------------\n",
      "Test accuracy on Test data = 81.61\n",
      "Accuracy on Test retain Data = 81.74\n",
      "Accuracy on Test unlearn Data = 80.4\n",
      "--------------------------------------------------------------------------------\n"
     ]
    },
    {
     "name": "stderr",
     "output_type": "stream",
     "text": [
      "100%|██████████| 9/9 [00:00<00:00, 30.60it/s]\n",
      "100%|██████████| 1/1 [00:00<00:00,  1.10it/s]\n",
      "100%|██████████| 5/5 [00:10<00:00,  2.03s/it]\n"
     ]
    },
    {
     "name": "stdout",
     "output_type": "stream",
     "text": [
      "--------------------------------------------------------------------------------\n",
      "Accuracy of Unlearned Model on Retain Data in Test Dataset(Unlearn Class - 4) = 78.32\n",
      "Accuracy of Unlearned Model on Unlearn Data in Test Dataset(Unlearn Class - 4) = 0.3\n",
      "Accuracy of Retrained Model on Retain Data in Test Dataset = 82.41\n",
      "Accuracy of Retrained Model on Unlearn Data in Test Dataset = 0.0\n",
      "--------------------------------------------------------------------------------\n",
      "\n",
      "\n"
     ]
    },
    {
     "name": "stderr",
     "output_type": "stream",
     "text": [
      " 50%|█████     | 5/10 [02:43<02:45, 33.10s/it]"
     ]
    },
    {
     "name": "stdout",
     "output_type": "stream",
     "text": [
      "================================================================================\n",
      "--------------------------------------------------------------------------------\n",
      "Unlearning Step (Class = 5)\n",
      "----------------------------\n",
      "Test accuracy on Test data = 81.61\n",
      "Accuracy on Test retain Data = 82.47\n",
      "Accuracy on Test unlearn Data = 73.9\n",
      "--------------------------------------------------------------------------------\n"
     ]
    },
    {
     "name": "stderr",
     "output_type": "stream",
     "text": [
      "100%|██████████| 9/9 [00:00<00:00, 148.15it/s]\n",
      "100%|██████████| 1/1 [00:00<00:00,  1.14it/s]\n",
      "100%|██████████| 5/5 [00:08<00:00,  1.67s/it]\n"
     ]
    },
    {
     "name": "stdout",
     "output_type": "stream",
     "text": [
      "--------------------------------------------------------------------------------\n",
      "Accuracy of Unlearned Model on Retain Data in Test Dataset(Unlearn Class - 5) = 79.16\n",
      "Accuracy of Unlearned Model on Unlearn Data in Test Dataset(Unlearn Class - 5) = 0.3\n",
      "Accuracy of Retrained Model on Retain Data in Test Dataset = 84.31\n",
      "Accuracy of Retrained Model on Unlearn Data in Test Dataset = 0.0\n",
      "--------------------------------------------------------------------------------\n",
      "\n",
      "\n"
     ]
    },
    {
     "name": "stderr",
     "output_type": "stream",
     "text": [
      " 60%|██████    | 6/10 [03:14<02:09, 32.27s/it]"
     ]
    },
    {
     "name": "stdout",
     "output_type": "stream",
     "text": [
      "================================================================================\n",
      "--------------------------------------------------------------------------------\n",
      "Unlearning Step (Class = 6)\n",
      "----------------------------\n",
      "Test accuracy on Test data = 81.61\n",
      "Accuracy on Test retain Data = 81.01\n",
      "Accuracy on Test unlearn Data = 87.0\n",
      "--------------------------------------------------------------------------------\n"
     ]
    },
    {
     "name": "stderr",
     "output_type": "stream",
     "text": [
      "100%|██████████| 9/9 [00:00<00:00, 30.15it/s]\n",
      "100%|██████████| 1/1 [00:00<00:00,  1.13it/s]\n",
      "100%|██████████| 5/5 [00:07<00:00,  1.44s/it]\n"
     ]
    },
    {
     "name": "stdout",
     "output_type": "stream",
     "text": [
      "--------------------------------------------------------------------------------\n",
      "Accuracy of Unlearned Model on Retain Data in Test Dataset(Unlearn Class - 6) = 71.67\n",
      "Accuracy of Unlearned Model on Unlearn Data in Test Dataset(Unlearn Class - 6) = 0.2\n",
      "Accuracy of Retrained Model on Retain Data in Test Dataset = 80.93\n",
      "Accuracy of Retrained Model on Unlearn Data in Test Dataset = 0.0\n",
      "--------------------------------------------------------------------------------\n",
      "\n",
      "\n"
     ]
    },
    {
     "name": "stderr",
     "output_type": "stream",
     "text": [
      " 70%|███████   | 7/10 [03:43<01:34, 31.38s/it]"
     ]
    },
    {
     "name": "stdout",
     "output_type": "stream",
     "text": [
      "================================================================================\n",
      "--------------------------------------------------------------------------------\n",
      "Unlearning Step (Class = 7)\n",
      "----------------------------\n",
      "Test accuracy on Test data = 81.61\n",
      "Accuracy on Test retain Data = 80.69\n",
      "Accuracy on Test unlearn Data = 89.9\n",
      "--------------------------------------------------------------------------------\n"
     ]
    },
    {
     "name": "stderr",
     "output_type": "stream",
     "text": [
      "100%|██████████| 9/9 [00:00<00:00, 187.56it/s]\n",
      "100%|██████████| 1/1 [00:00<00:00,  1.11it/s]\n",
      "100%|██████████| 5/5 [00:09<00:00,  2.00s/it]\n"
     ]
    },
    {
     "name": "stdout",
     "output_type": "stream",
     "text": [
      "--------------------------------------------------------------------------------\n",
      "Accuracy of Unlearned Model on Retain Data in Test Dataset(Unlearn Class - 7) = 76.83\n",
      "Accuracy of Unlearned Model on Unlearn Data in Test Dataset(Unlearn Class - 7) = 0.0\n",
      "Accuracy of Retrained Model on Retain Data in Test Dataset = 81.72\n",
      "Accuracy of Retrained Model on Unlearn Data in Test Dataset = 0.0\n",
      "--------------------------------------------------------------------------------\n",
      "\n",
      "\n"
     ]
    },
    {
     "name": "stderr",
     "output_type": "stream",
     "text": [
      " 80%|████████  | 8/10 [04:15<01:03, 31.60s/it]"
     ]
    },
    {
     "name": "stdout",
     "output_type": "stream",
     "text": [
      "================================================================================\n",
      "--------------------------------------------------------------------------------\n",
      "Unlearning Step (Class = 8)\n",
      "----------------------------\n",
      "Test accuracy on Test data = 81.61\n",
      "Accuracy on Test retain Data = 80.99\n",
      "Accuracy on Test unlearn Data = 87.2\n",
      "--------------------------------------------------------------------------------\n"
     ]
    },
    {
     "name": "stderr",
     "output_type": "stream",
     "text": [
      "100%|██████████| 9/9 [00:00<00:00, 142.94it/s]\n",
      "100%|██████████| 1/1 [00:00<00:00,  1.12it/s]\n",
      "100%|██████████| 5/5 [00:11<00:00,  2.27s/it]\n"
     ]
    },
    {
     "name": "stdout",
     "output_type": "stream",
     "text": [
      "--------------------------------------------------------------------------------\n",
      "Accuracy of Unlearned Model on Retain Data in Test Dataset(Unlearn Class - 8) = 77.54\n",
      "Accuracy of Unlearned Model on Unlearn Data in Test Dataset(Unlearn Class - 8) = 0.0\n",
      "Accuracy of Retrained Model on Retain Data in Test Dataset = 81.81\n",
      "Accuracy of Retrained Model on Unlearn Data in Test Dataset = 0.0\n",
      "--------------------------------------------------------------------------------\n",
      "\n",
      "\n"
     ]
    },
    {
     "name": "stderr",
     "output_type": "stream",
     "text": [
      " 90%|█████████ | 9/10 [04:49<00:32, 32.28s/it]"
     ]
    },
    {
     "name": "stdout",
     "output_type": "stream",
     "text": [
      "================================================================================\n",
      "--------------------------------------------------------------------------------\n",
      "Unlearning Step (Class = 9)\n",
      "----------------------------\n",
      "Test accuracy on Test data = 81.61\n",
      "Accuracy on Test retain Data = 81.73\n",
      "Accuracy on Test unlearn Data = 80.5\n",
      "--------------------------------------------------------------------------------\n"
     ]
    },
    {
     "name": "stderr",
     "output_type": "stream",
     "text": [
      "100%|██████████| 9/9 [00:00<00:00, 158.62it/s]\n",
      "100%|██████████| 1/1 [00:00<00:00,  1.07it/s]\n",
      "100%|██████████| 5/5 [00:07<00:00,  1.51s/it]\n"
     ]
    },
    {
     "name": "stdout",
     "output_type": "stream",
     "text": [
      "--------------------------------------------------------------------------------\n",
      "Accuracy of Unlearned Model on Retain Data in Test Dataset(Unlearn Class - 9) = 77.03\n",
      "Accuracy of Unlearned Model on Unlearn Data in Test Dataset(Unlearn Class - 9) = 0.0\n",
      "Accuracy of Retrained Model on Retain Data in Test Dataset = 81.56\n",
      "Accuracy of Retrained Model on Unlearn Data in Test Dataset = 0.0\n",
      "--------------------------------------------------------------------------------\n",
      "\n",
      "\n"
     ]
    },
    {
     "name": "stderr",
     "output_type": "stream",
     "text": [
      "100%|██████████| 10/10 [05:19<00:00, 31.96s/it]"
     ]
    },
    {
     "name": "stdout",
     "output_type": "stream",
     "text": [
      "Average Retain loss on Test Data after Unlearning = 77.46\n",
      "Average Unlearn loss on Test Data after Unlearning = 0.14\n",
      "Average Retain loss on Test Data after Retraining = 82.55\n",
      "Average Unlearn loss on Test Data after Retraining = 0.0\n",
      "Time needed for total unlearning: Mean = 16.449802207946778 sec, Std = 1.7279030211670103 sec.\n",
      "--------------------------------------------------------------------------------\n",
      "================================================================================\n"
     ]
    },
    {
     "name": "stderr",
     "output_type": "stream",
     "text": [
      "\n"
     ]
    }
   ],
   "source": [
    "for cls in tqdm(range(num_classes)):\n",
    "\n",
    "    unlearn_cls = cls\n",
    "    print('='*80)\n",
    "    print('-'*80)\n",
    "    print(f'Unlearning Step (Class = {unlearn_cls})')\n",
    "    print('----------------------------')\n",
    "    ## Creating Utility Object ##\n",
    "    obj_model = utils_(image_size=(image_size[1], image_size[2]),\n",
    "                        num_input_channels = image_size[0],\n",
    "                        num_classes = num_classes,\n",
    "                        learning_rate = learning_rate,\n",
    "                        batch_size = batch_size,\n",
    "                        num_epochs = num_train_epochs,\n",
    "                        padding = padding,\n",
    "                        model_save_name = '',\n",
    "                        data_name = dataset_name,\n",
    "                        model_name=model_name,\n",
    "                        unlearn_cls = unlearn_cls,\n",
    "                        result_savepath = result_savepath,\n",
    "                        retrained_models_folder_name = retrained_models_folder_name,\n",
    "                        unlearned_models_folder_name = unlearned_models_folder_name,\n",
    "                        solver_type = solver_type,\n",
    "                        unlearn_type=unlearn_type\n",
    "                        )\n",
    "    \n",
    "    #Initializing Retraining Model\n",
    "    retrain_model = copy.deepcopy(obj_model)\n",
    "    \n",
    "    #Initializing Retraining Model\n",
    "    unlearn_model = copy.deepcopy(obj_model)\n",
    "    \n",
    "    \n",
    "    obj_model.train_data  = train_data\n",
    "    obj_model.test_data = test_data\n",
    "    ############################################## Loading & Testing the model ################################################\n",
    "\n",
    "    with suppress_output():\n",
    "        if not os.path.isfile(obj_model.best_model_save_path):\n",
    "            obj_model.count_epoch = 0\n",
    "            obj_model.train()\n",
    "            \n",
    "        # Loading The Original Model\n",
    "        obj_model.load_network()\n",
    "        obj_model.network.eval()\n",
    "        \n",
    "        print('Testing main model on test data:\\n')\n",
    "        confusion_matrix, test_acc, test_classwise_accuracy, test_retain_acc, test_unlearn_acc = accuracy(obj_model.network,\n",
    "                                                                                                        test_loader,\n",
    "                                                                                                        unlearn_cls=unlearn_cls,\n",
    "                                                                                                        num_classes = num_classes\n",
    "                                                                                                        )\n",
    "    print(f'Test accuracy on Test data = {test_acc}')\n",
    "    print(f'Accuracy on Test retain Data = {test_retain_acc}')\n",
    "    print(f'Accuracy on Test unlearn Data = {test_unlearn_acc}')\n",
    "    all_test_retain_acc[unlearn_cls] = test_retain_acc\n",
    "    all_test_unlearn_acc[unlearn_cls] = test_unlearn_acc\n",
    "    print('-'*80)\n",
    "    #---------------------------------------------------------------------------------------------------------------------------\n",
    "\n",
    "    #Separating Unlearn and Retain Data\n",
    "\n",
    "    unlearn_data = input_train_data[input_train_labels == unlearn_cls]\n",
    "    unlearn_data_shape = unlearn_data.shape\n",
    "    retain_train_data = input_train_data[input_train_labels != unlearn_cls]\n",
    "    retain_train_labels = input_train_labels[input_train_labels != unlearn_cls]\n",
    "    retain_test_data = input_test_data[input_test_labels != unlearn_cls]\n",
    "    retain_test_labels = input_test_labels[input_test_labels != unlearn_cls]\n",
    "\n",
    "    #Dataloader only for retain data\n",
    "    temp = list(zip(retain_train_data,retain_train_labels))\n",
    "    obj_model.retain_loader_train = DataLoader(temp,\n",
    "                                        batch_size=batch_size,\n",
    "                                        shuffle=True)\n",
    "    temp = list(zip(retain_test_data, retain_test_labels))\n",
    "    obj_model.retain_loader_test = DataLoader(temp,\n",
    "                                        batch_size = batch_size,\n",
    "                                        shuffle = True\n",
    "                                        )\n",
    "    #-------------------------------------------------------------------------------------------------------------------------------\n",
    "    ################################################################################################################################\n",
    "\n",
    "    #Chossing random subsets of fixed size from each retain classes in training data\n",
    "    retain_data = []\n",
    "    retain_labels = []\n",
    "    train_index = []\n",
    "    labels = list(set(retain_train_labels.numpy()))\n",
    "    for label in tqdm(labels):\n",
    "        idx = (input_train_labels == label)\n",
    "        temp = np.where(idx == True)[0]\n",
    "        no_retain_data = int(len(temp)*(retain_data_percent/100))\n",
    "        data_idx = np.random.permutation(temp)[:no_retain_data]\n",
    "        train_index.extend(data_idx)#Position of the selected images in the training dataset\n",
    "        cls_data = input_train_data[data_idx]\n",
    "        cls_labels = input_train_labels[data_idx]\n",
    "        retain_data.extend(cls_data)\n",
    "        retain_labels.extend(cls_labels)     \n",
    "\n",
    "    retain_data = torch.stack(retain_data) # Contains 'no_retain_data' number of data from each class\n",
    "    unlearn_retain_labels = torch.from_numpy(np.array(retain_labels))\n",
    "    #-------------------------------------------------------------------------------------------------------------------------------\n",
    "\n",
    "    \n",
    "    ######################################################### Unlearning the Model ########################################################\n",
    "    \n",
    "    \n",
    "    with suppress_output():\n",
    "    \n",
    "        ## Delete Pre-Saved Unlearned Models\n",
    "        if delete_saved_unlearned_models:\n",
    "            print('='*80)\n",
    "            if not os.path.isfile(obj_model.best_unlearn_model_save_path):\n",
    "                print('Unlearned Models not exists.')\n",
    "            else:\n",
    "                print(f'\\nDeleting Pre-Saved Unlearned Model:{obj_model.best_unlearn_model_save_path}')\n",
    "                os.remove(obj_model.best_unlearn_model_save_path)\n",
    "                print(f'Model deleted:{obj_model.best_unlearn_model_save_path}')\n",
    "            print('-'*80)\n",
    "            print('='*80)\n",
    "        \n",
    "        unlearn_model.result_savepath = obj_model.result_savepath_unlearned\n",
    "        if not os.path.isfile(obj_model.best_unlearn_model_save_path):\n",
    "            print(f'No Unlearned model found in: {obj_model.best_unlearn_model_save_path}')\n",
    "            print('Unlearning the Model:')\n",
    "            print('---------------------')\n",
    "            ############################################### Generating UNMUNGED Samples ####################################################\n",
    "\n",
    "            retain_train_data = retain_train_data.reshape(len(retain_train_data), -1)\n",
    "            retain_data = retain_data.reshape(len(retain_data), -1)\n",
    "            unlearn_data = unlearn_data.reshape(len(unlearn_data), -1)\n",
    "            print('\\n\\nGenerating UNMUNGED Samples:')\n",
    "            print('----------------------------')\n",
    "            \n",
    "            print('='*80)\n",
    "            antisamples, _, _, antisample_generation_time = UNMUNGE_(unlearn_data= unlearn_data,\n",
    "                                                    retain_data=retain_train_data,\n",
    "                                                    retain_labels=retain_train_labels,\n",
    "                                                    local_variance = local_variance,\n",
    "                                                    size_multiplier = size_multiplier,\n",
    "                                                    p = p,\n",
    "                                                    tail_randomized = tail_randomized,\n",
    "                                                    no_generated_data=no_generated_data,\n",
    "                                                    eps=eps,\n",
    "                                                    convex_combination=True\n",
    "                                                    )\n",
    "\n",
    "\n",
    "            data_shape = (len(retain_train_data), ) + input_train_data.shape[1:]\n",
    "            retain_train_data = retain_train_data.reshape(*data_shape)\n",
    "\n",
    "            data_shape = (len(retain_data), ) + input_train_data.shape[1:]\n",
    "            retain_data = retain_data.reshape(*data_shape)\n",
    "\n",
    "            data_shape = (len(antisamples), ) + input_train_data.shape[1:]\n",
    "            antisamples = antisamples.reshape(*data_shape)\n",
    "            \n",
    "            unlearn_labels = torch.tensor(unlearn_cls).repeat(len(antisamples))\n",
    "            unlearn_data = unlearn_data.reshape(*unlearn_data_shape)\n",
    "            print('Antisample generation complete.')\n",
    "            print('-------------------------------')\n",
    "            print('\\n\\n')\n",
    "            #--------------------------------------------------------------------------------------------------------------------------------\n",
    "\n",
    "\n",
    "            # Creating Dataloader only for Unlearned Data\n",
    "            temp = list(zip(unlearn_data,unlearn_labels))\n",
    "            obj_model.unlearn_dataloader = DataLoader(temp,\n",
    "                                                    batch_size=batch_size,\n",
    "                                                    shuffle=True\n",
    "                                                    )\n",
    "            #--------------------------------------------------------------------------------------------------------------------------------\n",
    "            #++++++++++++++++++++++++++++++++++++++++++++++++++++++++++++++++++++++++++++++++++++++++++++++++++++++++++++++++++++++++++++++++\n",
    "            \n",
    "            \n",
    "            # Merging the Selected Retained Data and Generated UNMUNGED Data\n",
    "            #---------------------------------------------------------------\n",
    "            ##for selected retain data:\n",
    "            retain_labels = unlearn_retain_labels\n",
    "            \n",
    "            train_unlearn_images =  torch.concat((retain_data, antisamples))\n",
    "            train_unlearn_labels = torch.concat((retain_labels, unlearn_labels))\n",
    "            temp = list(zip(train_unlearn_images,train_unlearn_labels))\n",
    "            obj_model.unlearn_loader_all = DataLoader(temp,\n",
    "                                                    batch_size=batch_size,\n",
    "                                                    shuffle=True)\n",
    "            #--------------------------------------------------------------------------------------------------------------------------------\n",
    "\n",
    "            optimizer = optim.Adam(params=obj_model.network.parameters(), lr = unlearn_scale_lr*learning_rate)\n",
    "            model_unlearn, obj_model.unlearn_epoch_train_losses, unlearn_time = obj_model.unlearn(model=obj_model.network,\n",
    "                                                                optimizer= optimizer,\n",
    "                                                                dataloader=obj_model.unlearn_loader_all,\n",
    "                                                                num_epochs=num_unlearn_epochs\n",
    "                                                                )\n",
    "            total_time = unlearn_time + antisample_generation_time\n",
    "            unlearn_time_list[unlearn_cls] = total_time\n",
    "        else:\n",
    "            print(f'Found existing unlearned model in: {obj_model.best_unlearn_model_save_path}')\n",
    "        print(f'Loading unlearned model from: {obj_model.best_unlearn_model_save_path}')\n",
    "        unlearn_model.load_unlearn_network()\n",
    "        unlearn_model.network.eval()\n",
    "        print('-'*80)\n",
    "        print('\\n\\n')\n",
    "    #---------------------------------------------------------------------------------------------------------------------------------\n",
    "\n",
    "    ################################################## Testing the Unlearned Model ###################################################\n",
    "    confusion_matrix, acc, _, test_retain_acc_cls, test_unlearn_acc_cls = accuracy(unlearn_model.network,\n",
    "                                                                                    test_loader,\n",
    "                                                                                    unlearn_cls=unlearn_cls,\n",
    "                                                                                    num_classes = num_classes\n",
    "                                                                                    )\n",
    "    \n",
    "    \n",
    "    retain_test_acc_unlearning[cls] = test_retain_acc_cls\n",
    "    unlearn_test_acc_unlearning[cls] = test_unlearn_acc_cls\n",
    "    #---------------------------------------------------------------------------------------------------------------------------------\n",
    "    #+++++++++++++++++++++++++++++++++++++++++++++++++++++++++++++++++++++++++++++++++++++++++++++++++++++++++++++++++++++++++++++++++\n",
    "                \n",
    "    with suppress_output():\n",
    "    \n",
    "        ############################################################ Retraining the Model #################################################################################\n",
    "        \n",
    "        print(f'\\n\\n############################# Retraining the Model for Unlearn Class - {unlearn_cls} #########################################################')\n",
    "        print('=======================================================================================================================================')\n",
    "        temp =list(zip(retain_train_data,retain_train_labels))\n",
    "        retrain_model.train_data = temp\n",
    "        temp = list(zip(retain_test_data,retain_test_labels))\n",
    "        retrain_model.test_data = temp\n",
    "        \n",
    "        retrain_model.best_model_save_path = obj_model.best_retrain_model_save_path\n",
    "        retrain_model.result_savepath = obj_model.result_savepath_retrained\n",
    "        retrain_model.model_save_name = '_retrain_'+str(unlearn_cls)\n",
    "        if not os.path.isfile(obj_model.best_retrain_model_save_path):\n",
    "            print(f'No Retrained model found in: {obj_model.best_retrain_model_save_path}')\n",
    "            retrain_model.count_epoch = 0\n",
    "            retrain_model.train()\n",
    "\n",
    "        retrain_model.load_network()\n",
    "        retrain_model.network.eval()\n",
    "\n",
    "        print(f'\\n\\n Performance on Test Data after Retraining(U - {unlearn_cls})')\n",
    "        print('------------------------------------------------')\n",
    "    confusion_matrix, acc, _, retrain_test_retain_acc_cls, retrain_test_unlearn_acc_cls = accuracy(retrain_model.network.to(device),\n",
    "                                                                                                    test_loader,\n",
    "                                                                                                    unlearn_cls=unlearn_cls, \n",
    "                                                                                                    num_classes = num_classes\n",
    "                                                                                                    )\n",
    "    print('-'*80)\n",
    "    print(f'Accuracy of Unlearned Model on Retain Data in Test Dataset(Unlearn Class - {unlearn_cls}) = {test_retain_acc_cls}')\n",
    "    print(f'Accuracy of Unlearned Model on Unlearn Data in Test Dataset(Unlearn Class - {unlearn_cls}) = {test_unlearn_acc_cls}')\n",
    "    print(f'Accuracy of Retrained Model on Retain Data in Test Dataset = {retrain_test_retain_acc_cls}')\n",
    "    print(f'Accuracy of Retrained Model on Unlearn Data in Test Dataset = {retrain_test_unlearn_acc_cls}')\n",
    "    print('-'*80)\n",
    "    print('\\n')    \n",
    "    time.sleep(0.5)\n",
    "    \n",
    "    retain_test_acc_retrained[cls] = retrain_test_retain_acc_cls\n",
    "    unlearn_test_acc_retrained[cls] = retrain_test_unlearn_acc_cls\n",
    "            \n",
    "    if torch.cuda.is_available():\n",
    "        torch.cuda.empty_cache()\n",
    "\n",
    "# Saving Retain & Unlearn Accuracies over all dataset\n",
    "avg_test_retain_acc = round((sum(all_test_retain_acc)/num_classes),2)\n",
    "avg_test_unlearn_acc = round((sum(all_test_unlearn_acc)/num_classes),2)\n",
    "\n",
    "# Average Retain & Unlearn Accuracies over all dataset after unlearning the Original Model   \n",
    "avg_retain_test_acc_unlearning = round((sum(retain_test_acc_unlearning)/num_classes),2)\n",
    "avg_unlearn_test_acc_unlearning = round((sum(unlearn_test_acc_unlearning)/num_classes),2)\n",
    "\n",
    "# Average Retain & Unlearn Accuracies over all dataset after retraining the Model   \n",
    "avg_retain_test_acc_retrained = round((sum(retain_test_acc_retrained)/num_classes),2)\n",
    "avg_unlearn_test_acc_retrained = round((sum(unlearn_test_acc_retrained)/num_classes),2)\n",
    "    \n",
    "print(f'Average Retain loss on Test Data after Unlearning = {avg_retain_test_acc_unlearning}')\n",
    "print(f'Average Unlearn loss on Test Data after Unlearning = {avg_unlearn_test_acc_unlearning}')\n",
    "\n",
    "print(f'Average Retain loss on Test Data after Retraining = {avg_retain_test_acc_retrained}')\n",
    "print(f'Average Unlearn loss on Test Data after Retraining = {avg_unlearn_test_acc_retrained}')\n",
    "\n",
    "print(f'Time needed for total unlearning: Mean = {np.array(unlearn_time_list).mean()} sec, Std = {np.array(unlearn_time_list).std()} sec.')\n",
    "print('-'*80)\n",
    "print('='*80)\n"
   ]
  }
 ],
 "metadata": {
  "kernelspec": {
   "display_name": "condapy312",
   "language": "python",
   "name": "python3"
  },
  "language_info": {
   "codemirror_mode": {
    "name": "ipython",
    "version": 3
   },
   "file_extension": ".py",
   "mimetype": "text/x-python",
   "name": "python",
   "nbconvert_exporter": "python",
   "pygments_lexer": "ipython3",
   "version": "3.12.2"
  }
 },
 "nbformat": 4,
 "nbformat_minor": 2
}
